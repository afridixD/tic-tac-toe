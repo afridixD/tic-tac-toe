{
  "nbformat": 4,
  "nbformat_minor": 0,
  "metadata": {
    "colab": {
      "provenance": []
    },
    "kernelspec": {
      "name": "python3",
      "display_name": "Python 3"
    },
    "language_info": {
      "name": "python"
    }
  },
  "cells": [
    {
      "cell_type": "code",
      "execution_count": 67,
      "metadata": {
        "colab": {
          "base_uri": "https://localhost:8080/"
        },
        "id": "YswPgKPInMaG",
        "outputId": "ee1585f6-c570-426c-c20b-d1d9bd8eb8b1"
      },
      "outputs": [
        {
          "output_type": "stream",
          "name": "stdout",
          "text": [
            "play\n",
            "or\n",
            "exit\n",
            "play\n",
            "Player one username: afridi\n",
            "Player two username: slade\n",
            "Choose symbol:\n",
            "X\n",
            "or\n",
            "O\n",
            "X\n",
            "O\n",
            "START!\n",
            "0  |  1  |  2 \n",
            "-------------\n",
            "3  |  4  |  5\n",
            "-------------\n",
            "6  |  7  | 8\n",
            "Player One, enter between 0-8: 0\n",
            "X  |  1  |  2 \n",
            "-------------\n",
            "3  |  4  |  5\n",
            "-------------\n",
            "6  |  7  | 8\n",
            "Player Two, enter between 0-8: 1\n",
            "X  |  O  |  2 \n",
            "-------------\n",
            "3  |  4  |  5\n",
            "-------------\n",
            "6  |  7  | 8\n",
            "Player One, enter between 0-8: 3\n",
            "X  |  O  |  2 \n",
            "-------------\n",
            "X  |  4  |  5\n",
            "-------------\n",
            "6  |  7  | 8\n",
            "Player Two, enter between 0-8: 4\n",
            "X  |  O  |  2 \n",
            "-------------\n",
            "X  |  O  |  5\n",
            "-------------\n",
            "6  |  7  | 8\n",
            "Player One, enter between 0-8: 6\n",
            "X  |  O  |  2 \n",
            "-------------\n",
            "X  |  O  |  5\n",
            "-------------\n",
            "X  |  7  | 8\n",
            "WINNNNEEEEEEEEEERRRRRRRRRRR\n"
          ]
        }
      ],
      "source": [
        "print(\"play\\nor\\nexit\")\n",
        "\n",
        "list_num = [\"0\", \"1\", \"2\", \"3\", \"4\", \"5\", \"6\", \"7\", \"8\"]\n",
        "\n",
        "winner = False\n",
        "\n",
        "horizontal_check = False\n",
        "vertical_check = False\n",
        "diagonal_check = False\n",
        "\n",
        "player_one_turn = False\n",
        "player_two_turn = False\n",
        "\n",
        "main_board = \"0  |  1  |  2 \\n-------------\\n3  |  4  |  5\\n-------------\\n6  |  7  | 8\"\n",
        "\n",
        "game_sts = False\n",
        "game_se = input()\n",
        "game_tc = 0\n",
        "\n",
        "if game_se == \"exit\":\n",
        "  print(\"The game has been quit.\")\n",
        "else:\n",
        "  game_sts = True\n",
        "\n",
        "while game_sts == True:\n",
        "  player_one = input(\"Player one username: \")\n",
        "  player_two = input(\"Player two username: \")\n",
        "\n",
        "\n",
        "  print(\"Choose symbol:\\nX\\nor\\nO\")\n",
        "  one_symbol = input()\n",
        "  two_symbol = input()\n",
        "  player_symbols = {player_one: one_symbol, player_two : two_symbol}\n",
        "\n",
        "  print(\"START!\")\n",
        "  print(main_board)\n",
        "\n",
        "  while game_tc<9:\n",
        "    if player_one_turn == False:\n",
        "      one_turn = input(\"Player One, enter between 0-8: \")\n",
        "      main_board = main_board.replace(one_turn, one_symbol)\n",
        "      player_one_turn = True\n",
        "      print(main_board)\n",
        "    else:\n",
        "      two_turn = input(\"Player Two, enter between 0-8: \")\n",
        "      main_board = main_board.replace(two_turn, two_symbol)\n",
        "      player_two_turn = True\n",
        "      player_one_turn = False\n",
        "      print(main_board)\n",
        "\n",
        "    for idx in range(len(main_board)):\n",
        "      if main_board[0] and main_board[6] and main_board[12] == (one_symbol or two_symbol):\n",
        "        horizontal_check = True\n",
        "      if main_board[31] and main_board[37] and main_board[43] == (one_symbol or two_symbol):\n",
        "        horizontal_check = True\n",
        "      if main_board[51] and main_board[57] and main_board[63] == (one_symbol or two_symbol):\n",
        "        horizontal_check = True\n",
        "\n",
        "      if main_board[0] and main_board[31] and main_board[51] == (one_symbol or two_symbol):\n",
        "        vertical_check = True\n",
        "      if main_board[6] and main_board[37] and main_board[57] == (one_symbol or two_symbol):\n",
        "        vertical_check = True\n",
        "      if main_board[12] and main_board[37] and main_board[63] == (one_symbol or two_symbol):\n",
        "        vertical_check = True\n",
        "\n",
        "      if main_board[0] and main_board[37] and main_board[63] == (one_symbol or two_symbol):\n",
        "        diagonal_check = True\n",
        "      if main_board[12] and main_board[37] and main_board[51] == (one_symbol or two_symbol):\n",
        "        diagonal_check = True\n",
        "\n",
        "    if horizontal_check or vertical_check or diagonal_check == True:\n",
        "      winner = True\n",
        "    else:\n",
        "      winner == False\n",
        "    game_tc += 1\n",
        "\n",
        "    if winner == True:\n",
        "      break\n",
        "\n",
        "  game_sts = False\n",
        "\n",
        "if winner == False:\n",
        "  print(\"DRAWWWWWWWWWWWWWWWWW\")\n",
        "else:\n",
        "  print(\"WINNNNEEEEEEEEEERRRRRRRRRRR\")\n"
      ]
    },
    {
      "cell_type": "code",
      "source": [
        "dic={}\n",
        "\n",
        "lst1=[0,1]\n",
        "lst=[\"name\", \"names\"]\n",
        "\n",
        "for dic"
      ],
      "metadata": {
        "colab": {
          "base_uri": "https://localhost:8080/",
          "height": 140
        },
        "id": "VuBa2of522sW",
        "outputId": "5e76d2f2-70af-4a31-ddb6-7a10e7aa34d5"
      },
      "execution_count": 51,
      "outputs": [
        {
          "output_type": "error",
          "ename": "SyntaxError",
          "evalue": "ignored",
          "traceback": [
            "\u001b[0;36m  File \u001b[0;32m\"<ipython-input-51-580449216d68>\"\u001b[0;36m, line \u001b[0;32m6\u001b[0m\n\u001b[0;31m    for dic\u001b[0m\n\u001b[0m           ^\u001b[0m\n\u001b[0;31mSyntaxError\u001b[0m\u001b[0;31m:\u001b[0m invalid syntax\n"
          ]
        }
      ]
    }
  ]
}